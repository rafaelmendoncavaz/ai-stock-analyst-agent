{
 "cells": [
  {
   "cell_type": "code",
   "execution_count": null,
   "metadata": {},
   "outputs": [],
   "source": [
    "# Instalação \n",
    "!pip install yfinance\n",
    "!pip install crewai\n",
    "!pip install \"crewai[tools]\"\n",
    "!pip install langchain\n",
    "!pip install langchain-openai\n",
    "!pip install langchain-community"
   ]
  },
  {
   "cell_type": "code",
   "execution_count": 23,
   "metadata": {},
   "outputs": [],
   "source": [
    "import json\n",
    "import os\n",
    "import yfinance as yf\n",
    "from datetime import datetime\n",
    "from crewai import Agent, Task, Crew, Process\n",
    "from langchain.tools import Tool\n",
    "from langchain_openai import ChatOpenAI\n",
    "from langchain_community.tools import DuckDuckGoSearchResults\n",
    "from IPython.display import Markdown"
   ]
  },
  {
   "cell_type": "code",
   "execution_count": 15,
   "metadata": {},
   "outputs": [],
   "source": [
    "# Yahoo Finance Tool\n",
    "def fetch_stock_price(ticket):\n",
    "  stock = yf.download(ticket, start=\"2023-08-08\", end=\"2024-08-08\")\n",
    "  return stock\n",
    "\n",
    "yahoo_finance_tool = Tool(\n",
    "  name = \"Yahoo Finance Tool\",\n",
    "  description = \"Fetches a specific stock prices for {ticket} from the last 365 days\",\n",
    "  func = lambda ticket: fetch_stock_price(ticket)\n",
    ")"
   ]
  },
  {
   "cell_type": "code",
   "execution_count": null,
   "metadata": {},
   "outputs": [],
   "source": [
    "# IMPORTANDO OPENAI LLM - GPT\n",
    "API_KEY = \"INSERT_API_KEY_HERE\"\n",
    "os.environ[\"OPENAI_API_KEY\"] = API_KEY\n",
    "llm = ChatOpenAI(model=\"gpt-3.5-turbo\")"
   ]
  },
  {
   "cell_type": "code",
   "execution_count": null,
   "metadata": {},
   "outputs": [],
   "source": [
    "# STOCK AGENT\n",
    "stock_price_analyst = Agent(\n",
    "  role = \"Senior Stock Price Analyst\",\n",
    "  goal = \"Find the {ticket} stock price and analyze trends\",\n",
    "  backstory = \"\"\"\n",
    "    You are a highly experienced in analyzing the price of an specific stock\n",
    "    and make projections about its future price.\n",
    "  \"\"\",\n",
    "  verbose = True,\n",
    "  llm = llm,\n",
    "  max_iter = 5,\n",
    "  memory = True,\n",
    "  allow_delegation = False,\n",
    "  tools = [yahoo_finance_tool]  \n",
    ")"
   ]
  },
  {
   "cell_type": "code",
   "execution_count": null,
   "metadata": {},
   "outputs": [],
   "source": [
    "get_stock_price = Task(\n",
    "  description = \"Analyze the stock {ticket} price history and create a projection trend\",\n",
    "  expected_output = \"\"\"\"\"\n",
    "  Specify the current stock price trend.\n",
    "  eg: stock = \"AAPL\", price Rising\"\n",
    "  \"\"\",\n",
    "  agent = stock_price_analyst\n",
    ")"
   ]
  },
  {
   "cell_type": "code",
   "execution_count": null,
   "metadata": {},
   "outputs": [],
   "source": [
    "# Search Tool\n",
    "search_tool = DuckDuckGoSearchResults(\n",
    "  backend = \"news\",\n",
    "  num_results = 10\n",
    ")"
   ]
  },
  {
   "cell_type": "code",
   "execution_count": null,
   "metadata": {},
   "outputs": [],
   "source": [
    "# NEWS AGENT\n",
    "news_analyst = Agent(\n",
    "  role = \"Senior Company Stock News Analyst\",\n",
    "  goal = \"\"\"Create a short summary of the market news related to the company stock {ticket}. \n",
    "  Specify the news trend as positive, negative or neutral to the stock value.\n",
    "  For each requested stock, specify a number between 0 and 100, where 0 indicates Extreme Fear and 100 indicates Extreme Greed.\n",
    "  \"\"\",\n",
    "  backstory = \"\"\"\n",
    "    You are a highly experienced in analyzing the market trends and news and have tracked assets for over 10 years now.\n",
    "    You are also a Master Level Analyst in traditional market behavior and have a deep understanding of human psychology.\n",
    "    You understand news and their headlines, as well as its information, while keeping a healthy dose of skepticism. \n",
    "    You also consider how relevant and credible the news source is.\n",
    "  \"\"\",\n",
    "  verbose = True,\n",
    "  llm = llm,\n",
    "  max_iter = 10,\n",
    "  memory = True,\n",
    "  allow_delegation = False,\n",
    "  tools = [search_tool]\n",
    ")"
   ]
  },
  {
   "cell_type": "code",
   "execution_count": null,
   "metadata": {},
   "outputs": [],
   "source": [
    "get_news = Task(\n",
    "  description = f\"\"\"\n",
    "  Take the stock and always include BTC and rising markets to it (if not requested).\n",
    "  Use the search tool to search for each one individually.\n",
    "\n",
    "  The current date is {datetime.now()}.\n",
    "\n",
    "  Compose the results into a helpful report.\n",
    "  \"\"\",\n",
    "  expected_output = \"\"\"\n",
    "  A summary of the market overall and an one sentence summary for each requested asset.\n",
    "  Also include a Fear/Greed Index based on the news. Use the following format:\n",
    "  <STOCK/ASSET>\n",
    "  <NEWS BASED SUMMARY>\n",
    "  <TREND PROJECTION>\n",
    "  <FEAR/GREED INDEX>\n",
    "  \"\"\",\n",
    "  agent = news_analyst\n",
    ")"
   ]
  },
  {
   "cell_type": "code",
   "execution_count": null,
   "metadata": {},
   "outputs": [],
   "source": [
    "# HEAD OF ANALYSIS AGENT\n",
    "head_of_analysis = Agent(\n",
    "  role = \"Head of Analysis and Senior Stock Analyst Writer\",\n",
    "  goal = \"\"\"Write an insightful, compelling and informative 3 paragraph long newsletter based on the price trend and stock news report. \n",
    "  \"\"\",\n",
    "  backstory = \"\"\"\n",
    "    You are widely known by the Associated Press as the best stock analyst of the decade and one of the most renowed Market Analysts of all time.\n",
    "    You understand complex concepts of the market, evaluation and news impact on stocks. You understand what ratios are the most important to consider when you are evaluating a company (such as P/E, PEG Ratio, ROE, ROA, Profit Margin, Divident Payout Ratio, EBITDA, etc).\n",
    "    You write compelling stories and narratives that resonate with the broader audience/reader.\n",
    "    You understand micro and macro factors that impacts the market and the stocks, and is capable of combining multiple economic theories, such as market cycle theory and fundamentalist analysis.\n",
    "    You are able to hold multiple unbiased opinions when analyzing anything.\n",
    "  \"\"\",\n",
    "  verbose = True,\n",
    "  llm = llm,\n",
    "  max_iter = 5,\n",
    "  memory = True,\n",
    "  allow_delegation = True,\n",
    ")"
   ]
  },
  {
   "cell_type": "code",
   "execution_count": null,
   "metadata": {},
   "outputs": [],
   "source": [
    "write_analysis = Task(\n",
    "  description = \"\"\"\n",
    "  Use the stock price trend and the stock news report to create an analysis and write the newsletter about the company {ticket}.\n",
    "  The newsletter needs to be brief and higlight the most important points.\n",
    "  Focus on the stock price trends, news and Fear/Greed Index.\n",
    "  Return both short and long term considerations for the referring stock based on the gathered information.\n",
    "  Include the previous analysis of the stock and news summary.\n",
    "  \"\"\",\n",
    "  expected_output = \"\"\"\n",
    "  An eloquent 3 paragraph long newsletter formatted as markdown in an easy and readable manner. It should contain:\n",
    "  - 3 bullet executive summary\n",
    "  - Introduction: Set the overall picture and spike up the interest.\n",
    "  - Main: Provides the 'meat' of the analysis, including the news summary and the Fear/Greed Index.\n",
    "  - Summary: Key Facts and concrete projection trend for the foreseeing future.\n",
    "  \"\"\",\n",
    "  agent = head_of_analysis,\n",
    "  context = [get_stock_price, get_news]\n",
    ")"
   ]
  },
  {
   "cell_type": "code",
   "execution_count": null,
   "metadata": {},
   "outputs": [],
   "source": [
    "crew = Crew(\n",
    "  agents = [stock_price_analyst, news_analyst, head_of_analysis],\n",
    "  tasks = [get_stock_price, get_news, write_analysis],\n",
    "  verbose = 2,\n",
    "  process = Process.hierarchical,\n",
    "  full_output = True,\n",
    "  share_crew = False,\n",
    "  manager_llm = llm,\n",
    "  max_iter = 15\n",
    ")"
   ]
  },
  {
   "cell_type": "code",
   "execution_count": null,
   "metadata": {},
   "outputs": [],
   "source": [
    "results = crew.kickoff(inputs = {\"ticket\": \"AAPL\"})"
   ]
  },
  {
   "cell_type": "code",
   "execution_count": null,
   "metadata": {},
   "outputs": [],
   "source": [
    "list(results.key())"
   ]
  },
  {
   "cell_type": "code",
   "execution_count": null,
   "metadata": {},
   "outputs": [],
   "source": [
    "Markdown(results[\"final_output\"])"
   ]
  }
 ],
 "metadata": {
  "kernelspec": {
   "display_name": "Python 3",
   "language": "python",
   "name": "python3"
  },
  "language_info": {
   "codemirror_mode": {
    "name": "ipython",
    "version": 3
   },
   "file_extension": ".py",
   "mimetype": "text/x-python",
   "name": "python",
   "nbconvert_exporter": "python",
   "pygments_lexer": "ipython3",
   "version": "3.12.5"
  }
 },
 "nbformat": 4,
 "nbformat_minor": 2
}
